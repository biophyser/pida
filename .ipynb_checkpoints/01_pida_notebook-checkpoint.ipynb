{
 "cells": [
  {
   "cell_type": "markdown",
   "metadata": {},
   "source": [
    "# Protein-protein interaction docking analysis package\n",
    "\n",
    "This package utilizes tools from [MDtraj](http://mdtraj.org/latest/index.html) and [nglview](http://arose.github.io/nglview/latest/index.html) to streamline analysis of protein-protein interaction docking solutions from servers such as ClusPro, Rosetta, Haddock, Swarmdock, Pie-Dock, etc. \n",
    "\n",
    "Docking solution (typically pdb) files are converted to an MDtraj-friendly format (this package currently only contains code for ClusPro conversion, but can be easily adapted to other file types). MDtraj is then used to calculate contact residues between docked proteins (using ***get_interface_contacts*** and ***contacts_iterator***), and then nglview is used to visually represent both individual docking solutions (via ***model_viewer***) and aggregate docking solutions (via ***atom_contacts_parser*** and ***heatmap***). Histograms of aggregate docking solution counts by residue, from N- to C-terminus, are also provided via ***docking_histograms***. "
   ]
  },
  {
   "cell_type": "code",
   "execution_count": 1,
   "metadata": {},
   "outputs": [],
   "source": [
    "%matplotlib inline\n",
    "from matplotlib import pyplot as plt\n",
    "import numpy as np\n",
    "import mdtraj as md\n",
    "import nglview as nv\n",
    "import os\n",
    "import itertools\n",
    "import pickle"
   ]
  },
  {
   "cell_type": "markdown",
   "metadata": {},
   "source": [
    "## The functions below define:\n",
    "\n",
    "- a simple file conversion process (***mdtraj_converter***)"
   ]
  },
  {
   "cell_type": "code",
   "execution_count": 2,
   "metadata": {},
   "outputs": [],
   "source": [
    "def _cluspro_converter(filename, output):\n",
    "    \"\"\"\n",
    "    Re-formats cluspro pdb files so mdtraj can read them in as single-frame trajectories.  \n",
    "    \"\"\"\n",
    "    f = open(filename)\n",
    "    g = open(output, \"w\")\n",
    "\n",
    "    for line in f.readlines():\n",
    "        if line[:3] != \"END\":\n",
    "            g.write(line)\n",
    "\n",
    "    f.close()\n",
    "    g.close()\n"
   ]
  },
  {
   "cell_type": "code",
   "execution_count": 3,
   "metadata": {},
   "outputs": [],
   "source": [
    "def mdtraj_converter(path):\n",
    "    \"\"\"\n",
    "    Iterates through files in a user-specified directory and formats them for mdtraj input, \n",
    "    allowing mdtraj to read the files in as single-frame trajectories. Writes out new set of files\n",
    "    labeled modeln.pdb (n = 0...n)\n",
    "    \"\"\"\n",
    "    files = [f for f in os.listdir(path) if \"pdb\" in f]\n",
    "    \n",
    "    dpath = path + \"converted_models/\"\n",
    "    if not os.path.exists(dpath):\n",
    "        os.makedirs(dpath)\n",
    "                \n",
    "    new_titles = []\n",
    "\n",
    "    for i in range(len(files)):\n",
    "        i = \"model%s.pdb\" % (i) \n",
    "        new_titles.append(i)\n",
    "        \n",
    "\n",
    "    for i in range(len(files)):\n",
    "        _cluspro_converter(path + files[i], dpath + new_titles[i])"
   ]
  },
  {
   "cell_type": "markdown",
   "metadata": {},
   "source": [
    "- interface contacts calculations (***get_interface_contacts***, ***contacts_iterator***)"
   ]
  },
  {
   "cell_type": "code",
   "execution_count": 4,
   "metadata": {},
   "outputs": [],
   "source": [
    "def get_interface_contacts(frame, r_chains, l_chains, ca_cutoff_ang=10.):\n",
    "    \"\"\"\n",
    "    Identify interface residues between ligand chains and receptor chains using mdtraj. \n",
    "    Residues identified by user-specified c-alpha cutoff, preset to 10 angstroms. \n",
    "    Feeds into contacts_iterator. \n",
    "    \"\"\"\n",
    "    \n",
    "    #Get list of residues in receptor and ligand\n",
    "    r_residues = []\n",
    "    for chain in r_chains:\n",
    "        r_residues.extend([residue.index for residue in frame.topology.chain(chain).residues])\n",
    "    \n",
    "    l_residues = []\n",
    "    for chain in l_chains:\n",
    "        l_residues.extend([residue.index for residue in frame.topology.chain(chain).residues])\n",
    "\n",
    "    # Make an array of potential contact pairs between receptor and ligand\n",
    "    contact_pairs = np.array([(i,j) for i in r_residues for j in l_residues])\n",
    "\n",
    "    # Check which ones fall within c-alpha distance cutoff    \n",
    "    is_contact = (10.*md.compute_contacts(frame, scheme='ca', contacts=contact_pairs)[0] < ca_cutoff_ang)[0]\n",
    "\n",
    "    # Go from bool truth values to the actual residues\n",
    "    contacts = contact_pairs[is_contact]\n",
    "\n",
    "    # Go from pairs to flattened list of unique residues involved in contacts\n",
    "    interface_residues = sorted(set(contacts[:,0]).union(set(contacts[:,1])))\n",
    "    \n",
    "    return interface_residues"
   ]
  },
  {
   "cell_type": "code",
   "execution_count": 5,
   "metadata": {},
   "outputs": [],
   "source": [
    "def contacts_iterator(path, r_chains, l_chains):\n",
    "    \"\"\"\n",
    "    Iterates through all files in a user-specified path (that have been edited by function mdtraj_converter \n",
    "    for mdtraj compatibility), calculates interface contacts using mdtraj_compute_contacts \n",
    "    (here called by function get_interface_contacts), pulls out all atom indices in each interface \n",
    "    and adds all interface atoms and interface residues to aggregate list of contacts. \n",
    "    Aggregate_contacts gets printed out into a file named \"aggregate_contacts.txt\" for later use, if needed. \n",
    "    Not currently mapped directly to file names, but aggregate_contacts[i] corresponds to all atom contacts within model[i].pdb.\n",
    "    aggregate_contacts[i] feeds directly into model_viewer for viewing of individual docking solutions, with docking\n",
    "    interface highlighted.    \n",
    "    \"\"\"\n",
    "\n",
    "    files = os.listdir(path + \"converted_models/\")\n",
    "    \n",
    "    dpath = path + \"summary_data/\"\n",
    "    if not os.path.exists(dpath):\n",
    "        os.makedirs(dpath)\n",
    "    \n",
    "    aggregate_contacts = []\n",
    "    aggregate_residues = []\n",
    "    \n",
    "    for i in range(len(files)):\n",
    "        i = \"model%s.pdb\" % (i) \n",
    "        pdb = md.load(path  + \"converted_models/\" + i)\n",
    "        res = get_interface_contacts(pdb, r_chains, l_chains)\n",
    "        aggregate_residues.append(res)\n",
    "        \n",
    "        atom_indices = []\n",
    "\n",
    "        for i in res:\n",
    "            a = [atom.index for atom in pdb.topology.residue(i).atoms]\n",
    "            atom_indices.append(a)\n",
    "    \n",
    "        interface_atoms = np.hstack(atom_indices).tolist()\n",
    "        aggregate_contacts.append(interface_atoms)\n",
    "    \n",
    "    with open(path + \"summary_data/aggregate_contacts.pickle\", \"wb\") as g:\n",
    "        pickle.dump(aggregate_contacts, g)\n",
    "    \n",
    "    g.close()\n",
    "        \n",
    "    with open(path + \"summary_data/aggregate_residues.pickle\", \"wb\") as h:\n",
    "        pickle.dump(aggregate_residues, h)\n",
    "        \n",
    "    h.close()\n",
    "    \n",
    "    return aggregate_contacts, aggregate_residues     "
   ]
  },
  {
   "cell_type": "markdown",
   "metadata": {},
   "source": [
    "- callable individual docking solutions viewer (***model_viewer***)"
   ]
  },
  {
   "cell_type": "code",
   "execution_count": 6,
   "metadata": {
    "collapsed": true
   },
   "outputs": [],
   "source": [
    "def model_viewer(path, model_number, aggregate_contacts):\n",
    "    \"\"\"\n",
    "    Quick viewer for visually inspecting docking contacts output. \n",
    "    Takes aggregate_contacts output from contacts_iterator and plots contacts (in red) \n",
    "    onto receptor-ligand docking solution (blue). \n",
    "    \"\"\"\n",
    "    \n",
    "    pdb = md.load(path  + \"converted_models/\" + \"model%s.pdb\" % (model_number))\n",
    "    \n",
    "    view = nv.show_mdtraj(pdb)\n",
    "    view.add_cartoon(selection =\"protein\", color = \"blue\")\n",
    "    view.add_ball_and_stick(selection = aggregate_contacts[model_number], color = \"red\")\n",
    "    \n",
    "    return view"
   ]
  },
  {
   "cell_type": "markdown",
   "metadata": {},
   "source": [
    "- aggregate docking solution hotspot histograms for receptor and ligand (***docking_histograms***)"
   ]
  },
  {
   "cell_type": "code",
   "execution_count": 7,
   "metadata": {
    "collapsed": true
   },
   "outputs": [],
   "source": [
    "def docking_histograms(aggregate_residues, path, l_chains):\n",
    "    \"\"\"\n",
    "    Takes output aggregate_residues from contacts_iterator and plots histograms of docking hits by residue\n",
    "    for both receptor and ligand. Requires path name for directory in which all docking pdb files are stored,\n",
    "    as well as the list of l_chains you used for contacts_iterator - this allows the function to differentiate \n",
    "    between ligand and receptor residues. \n",
    "    \"\"\"\n",
    "\n",
    "    counts = {}\n",
    "\n",
    "    for i in itertools.chain(*aggregate_residues):\n",
    "        counts[i] = counts.get(i, 0) + 1\n",
    "        \n",
    "    all_resis = list(counts.keys())\n",
    "    all_counts = list(counts.values())\n",
    "\n",
    "    pdb = md.load(path + \"converted_models/\" + \"model0.pdb\")\n",
    "    \n",
    "    ligand_residue_1 = [residue.index for residue in pdb.topology.chain(l_chains[0]).residues][0]\n",
    "\n",
    "    receptor_resis = []\n",
    "    ligand_resis = []\n",
    "    receptor_counts = []\n",
    "    ligand_counts = []\n",
    "    actual_ligand_resis = []\n",
    "    \n",
    "    for i in range(len(all_resis)):\n",
    "        if all_resis[i] < ligand_residue_1:\n",
    "            receptor_resis.append(all_resis[i])\n",
    "            receptor_counts.append(all_counts[i])\n",
    "        else:\n",
    "            ligand_resis.append(all_resis[i])\n",
    "            ligand_counts.append(all_counts[i])\n",
    "            \n",
    "    for i in range(len(ligand_resis)):\n",
    "        actual_ligand_resis.append(ligand_resis[i]-ligand_residue_1)\n",
    "    \n",
    "    rec_fig = plt.figure()\n",
    "    ax1 = rec_fig.add_subplot(1,1,1)\n",
    "    ax1.bar(receptor_resis, receptor_counts)\n",
    "    ax1.set_xlabel(\"Receptor residue #\")\n",
    "    ax1.set_ylabel(\"Counts\")\n",
    "\n",
    "    lig_fig = plt.figure()\n",
    "    ax2 = lig_fig.add_subplot(1,1,1)\n",
    "    ax2.bar(actual_ligand_resis, ligand_counts, color =\"g\")\n",
    "    ax2.set_xlabel(\"Ligand residue #\")\n",
    "    ax2.set_ylabel(\"Counts\")\n",
    "\n",
    "    plt.show()\n",
    "    \n",
    "    return receptor_resis, receptor_counts, ligand_resis, ligand_counts, actual_ligand_resis"
   ]
  },
  {
   "cell_type": "markdown",
   "metadata": {},
   "source": [
    "- heatmap depiction of aggregate docking solutions mapped onto receptor and ligand structures (***atom_contacts_parser***, ***heatmap***)"
   ]
  },
  {
   "cell_type": "code",
   "execution_count": 8,
   "metadata": {
    "collapsed": true
   },
   "outputs": [],
   "source": [
    "def atom_contacts_parser(aggregate_contacts, path, l_chains):\n",
    "    \"\"\"\n",
    "    Parses through aggregate_contacts data from contacts_iterator and spits out \n",
    "    contacted receptor_atoms and ligand_atoms, and their corresponding counts. \n",
    "    This data feeds into the heatmap viewer. \n",
    "    \"\"\"\n",
    "\n",
    "    counts = {}\n",
    "\n",
    "    for i in itertools.chain(*aggregate_contacts):\n",
    "            counts[i] = counts.get(i, 0) + 1\n",
    "\n",
    "    all_contacts = list(counts.keys())\n",
    "    all_counts = list(counts.values())\n",
    "\n",
    "    pdb = md.load(path + \"converted_models/\" + \"model0.pdb\")\n",
    "\n",
    "    ligand_atom_1 = [atom.index for atom in pdb.topology.chain(l_chains[0]).atoms][0]\n",
    "\n",
    "    receptor_atoms = []\n",
    "    ligand_atoms = []\n",
    "    actual_ligand_atoms = []\n",
    "    receptor_atom_counts = []\n",
    "    ligand_atom_counts = []\n",
    "\n",
    "    for i in range(len(all_contacts)):\n",
    "        if all_contacts[i] < ligand_atom_1:\n",
    "            receptor_atoms.append(all_contacts[i])\n",
    "            receptor_atom_counts.append(all_counts[i])\n",
    "        else:\n",
    "            ligand_atoms.append(all_contacts[i])\n",
    "            ligand_atom_counts.append(all_counts[i])\n",
    "            \n",
    "    receptor_atoms = np.hstack(receptor_atoms).tolist()\n",
    "    ligand_atoms = np.hstack(ligand_atoms).tolist()\n",
    "    receptor_atom_counts = np.hstack(receptor_atom_counts).tolist()\n",
    "    ligand_atom_counts = np.hstack(ligand_atom_counts).tolist()\n",
    "    \n",
    "    for i in range(len(ligand_atoms)):\n",
    "        actual_ligand_atoms.append(ligand_atoms[i]-ligand_atom_1)\n",
    "        \n",
    "    actual_ligand_atoms = np.hstack(actual_ligand_atoms).tolist()    \n",
    "\n",
    "    return receptor_atoms, receptor_atom_counts, actual_ligand_atoms, ligand_atoms, ligand_atom_counts"
   ]
  },
  {
   "cell_type": "code",
   "execution_count": 9,
   "metadata": {},
   "outputs": [],
   "source": [
    "def heatmap(path, r_chains, l_chains, plot_receptor = True, plot_ligand = False):\n",
    "    \"\"\"\n",
    "    Constructs a heatmap of contact points onto receptor and ligand structures.\n",
    "    Requires input from atom_contacts_parser. Color cutoffs are currently hard-coded\n",
    "    for this particular data set, but can be easily modified. \n",
    "    \"\"\"\n",
    "    pdb = md.load(path + \"converted_models/model0.pdb\")\n",
    "    \n",
    "    rec = []\n",
    "\n",
    "    for i in range(len(r_chains)):\n",
    "        c = [atom.index for atom in pdb.topology.chain(r_chains[i]).atoms]\n",
    "        rec.append(c)\n",
    "            \n",
    "    rec = np.array(rec)\n",
    "    rec = np.hstack(rec).tolist()\n",
    "    rec_structure = md.load(path + \"converted_models/model0.pdb\", atom_indices=rec)\n",
    "    \n",
    "    lig = []\n",
    "\n",
    "    for i in range(len(l_chains)):\n",
    "        c = [atom.index for atom in pdb.topology.chain(l_chains[i]).atoms]\n",
    "        lig.append(c)\n",
    "            \n",
    "    lig = np.array(lig)\n",
    "    lig = np.hstack(lig).tolist()\n",
    "    lig_structure = md.load(path + \"converted_models/model0.pdb\", atom_indices=lig)\n",
    "\n",
    "    if plot_receptor == True:\n",
    "    \n",
    "        view = nv.show_mdtraj(rec_structure)\n",
    "        view.clear()\n",
    "        view.add_ball_and_stick(selection =\"residue\", color = \"blue\")\n",
    "\n",
    "        low = []\n",
    "        med = []\n",
    "        hi = []\n",
    "        \n",
    "        for i in range(len(receptor_atoms)):\n",
    "            if receptor_atom_counts[i] > 1 and receptor_atom_counts[i] < 6:\n",
    "                low.append(receptor_atoms[i])\n",
    "            elif receptor_atom_counts[i] > 5 and receptor_atom_counts[i] < 11:\n",
    "                med.append(receptor_atoms[i])\n",
    "            else:\n",
    "                hi.append(receptor_atoms[i])\n",
    "\n",
    "        view.add_ball_and_stick(selection = low, color = \"yellow\")\n",
    "        view.add_ball_and_stick(selection = med, color = \"orange\")\n",
    "        view.add_ball_and_stick(selection = hi, color = \"red\")\n",
    "        \n",
    "    if plot_ligand == True:\n",
    "    \n",
    "        view = nv.show_mdtraj(lig_structure)\n",
    "        view.clear()\n",
    "        view.add_ball_and_stick(selection =\"residue\", color = \"blue\")\n",
    "\n",
    "        l = []\n",
    "        m = []\n",
    "        h = []\n",
    "\n",
    "        for i in range(len(actual_ligand_atoms)):\n",
    "            if ligand_atom_counts[i] > 6 and ligand_atom_counts[i] < 26:\n",
    "                l.append(actual_ligand_atoms[i])\n",
    "            elif ligand_atom_counts[i] > 25 and ligand_atom_counts[i] < 51:\n",
    "                m.append(actual_ligand_atoms[i])\n",
    "            else:\n",
    "                h.append(actual_ligand_atoms[i])\n",
    "\n",
    "        view.add_ball_and_stick(selection = l, color = \"yellow\")\n",
    "        view.add_ball_and_stick(selection = m, color = \"orange\")\n",
    "        view.add_ball_and_stick(selection = h, color = \"red\")\n",
    "        \n",
    "    return view"
   ]
  },
  {
   "cell_type": "markdown",
   "metadata": {},
   "source": [
    "## *Example usage*"
   ]
  },
  {
   "cell_type": "markdown",
   "metadata": {},
   "source": [
    "#### User specifies path to docking solution files and specifies ligand and receptor chains within files. "
   ]
  },
  {
   "cell_type": "code",
   "execution_count": 27,
   "metadata": {
    "collapsed": true
   },
   "outputs": [],
   "source": [
    "#a subset of data files (20) from a TLR4/S100A9 ClusPro docking solutions set\n",
    "path = \"test_files/\"\n",
    "\n",
    "#TLR4 receptor chains \n",
    "r_chains = [0,1,2,3]\n",
    "\n",
    "#S100A9 receptor chains\n",
    "l_chains = [4,5]"
   ]
  },
  {
   "cell_type": "markdown",
   "metadata": {},
   "source": [
    "#### Convert files to mdtraj-friendly format"
   ]
  },
  {
   "cell_type": "code",
   "execution_count": 32,
   "metadata": {},
   "outputs": [],
   "source": [
    "mdtraj_converter(path)"
   ]
  },
  {
   "cell_type": "markdown",
   "metadata": {},
   "source": [
    "#### Calculate contacts for all docking solutions"
   ]
  },
  {
   "cell_type": "code",
   "execution_count": 12,
   "metadata": {},
   "outputs": [],
   "source": [
    "#iterates through all files in user-specified directory and calculates contacts within user-specified\n",
    "#C-alpha distance cutoff between receptor and ligand chains. Both aggregate contact atoms and aggregate\n",
    "#contact residues are returned - aggregate_contacts are used to plot single-model solutions using model_viewer,\n",
    "#while aggregate_residues are used for docking_histograms and heatmap. \n",
    "\n",
    "aggregate_contacts, aggregate_residues = contacts_iterator(path, r_chains, l_chains)"
   ]
  },
  {
   "cell_type": "markdown",
   "metadata": {},
   "source": [
    "#### View individual docking solutions"
   ]
  },
  {
   "cell_type": "markdown",
   "metadata": {},
   "source": [
    "*Side note - aggregate_contacts and aggregate_residues are saved as pickle files in summary_data in case of issues,\n",
    "as the distance calculation can take a while for a large set of files if you need to repeat it. \n",
    "These are easily imported for use with other functions, e.g.*"
   ]
  },
  {
   "cell_type": "markdown",
   "metadata": {},
   "source": [
    "```python\n",
    "with open(path + \"summary_data/aggregate_contacts.pickle\", \"rb\") as f:\n",
    "    aggregate_contacts = pickle.load(f)\n",
    "\n",
    "with open(path + \"summary_data/aggregate_residues.pickle\", \"rb\") as g:\n",
    "    aggregate_residues = pickle.load(g)\n",
    "```"
   ]
  },
  {
   "cell_type": "code",
   "execution_count": 14,
   "metadata": {},
   "outputs": [
    {
     "name": "stderr",
     "output_type": "stream",
     "text": [
      "Widget Javascript not detected.  It may not be installed properly. Did you enable the widgetsnbextension? If not, then run \"jupyter nbextension enable --py --sys-prefix widgetsnbextension\"\n"
     ]
    }
   ],
   "source": [
    "#number specification corresponds to model_number, e.g. 0 = model0.pdb.\n",
    "\n",
    "model_viewer(path, 0, aggregate_contacts)"
   ]
  },
  {
   "cell_type": "markdown",
   "metadata": {},
   "source": [
    "#### View histograms of aggregate docking counts by residue for receptor and ligand"
   ]
  },
  {
   "cell_type": "code",
   "execution_count": 15,
   "metadata": {},
   "outputs": [
    {
     "data": {
      "image/png": "[encoded data removed]",
      "text/plain": [
       "<matplotlib.figure.Figure at 0x7f13db0590f0>"
      ]
     },
     "metadata": {},
     "output_type": "display_data"
    },
    {
     "data": {
      "image/png": "[encoded data removed]",
      "text/plain": [
       "<matplotlib.figure.Figure at 0x7f14110cf978>"
      ]
     },
     "metadata": {},
     "output_type": "display_data"
    }
   ],
   "source": [
    "#returns histograms of aggregate docking counts for set of docking solutions for both receptor and ligand by residue position.\n",
    "#Also outputs receptor residues, receptor counts, ligand residues, and ligand counts - these are aggregate data for set of \n",
    "#docking solutions.\n",
    "\n",
    "r_resis, r_counts, l_resis, l_counts, actual_l_resis = docking_histograms(aggregate_residues, path, l_chains)"
   ]
  },
  {
   "cell_type": "markdown",
   "metadata": {},
   "source": [
    "#### Count up all atom contacts for receptor and ligand to feed into heatmap construction"
   ]
  },
  {
   "cell_type": "code",
   "execution_count": 16,
   "metadata": {},
   "outputs": [],
   "source": [
    "[receptor_atoms, receptor_atom_counts, \n",
    " actual_ligand_atoms, ligand_atoms, ligand_atom_counts] = atom_contacts_parser(aggregate_contacts, path, l_chains)"
   ]
  },
  {
   "cell_type": "markdown",
   "metadata": {},
   "source": [
    "#### Construct heatmaps"
   ]
  },
  {
   "cell_type": "code",
   "execution_count": 17,
   "metadata": {},
   "outputs": [
    {
     "name": "stderr",
     "output_type": "stream",
     "text": [
      "The installed widget Javascript is the wrong version.\n"
     ]
    }
   ],
   "source": [
    "heatmap(path, r_chains, l_chains)"
   ]
  },
  {
   "cell_type": "code",
   "execution_count": 24,
   "metadata": {},
   "outputs": [
    {
     "data": {
      "application/vnd.jupyter.widget-view+json": {
       "model_id": "3ce194c282e3499a99c3308b35cb5699"
      }
     },
     "metadata": {},
     "output_type": "display_data"
    }
   ],
   "source": [
    "heatmap(path, r_chains, l_chains, plot_receptor=False, plot_ligand=True)"
   ]
  }
 ],
 "metadata": {
  "kernelspec": {
   "display_name": "Python 3",
   "language": "python",
   "name": "python3"
  },
  "language_info": {
   "codemirror_mode": {
    "name": "ipython",
    "version": 3
   },
   "file_extension": ".py",
   "mimetype": "text/x-python",
   "name": "python",
   "nbconvert_exporter": "python",
   "pygments_lexer": "ipython3",
   "version": "3.6.1"
  },
  "widgets": {
   "state": {
    "ea151d3bc2664ad6bc2d6a0036968507": {
     "views": [
      {
       "cell_index": 14
      }
     ]
    }
   },
   "version": "1.2.0"
  }
 },
 "nbformat": 4,
 "nbformat_minor": 2
}
